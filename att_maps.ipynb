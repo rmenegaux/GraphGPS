{
 "cells": [
  {
   "cell_type": "code",
   "execution_count": null,
   "metadata": {},
   "outputs": [],
   "source": [
    "import torch\n",
    "all_scores = torch.load('tmp_scores.pt', map_location=torch.device('cpu'))"
   ]
  },
  {
   "cell_type": "code",
   "execution_count": null,
   "metadata": {},
   "outputs": [],
   "source": [
    "len(all_scores[0])"
   ]
  },
  {
   "cell_type": "code",
   "execution_count": null,
   "metadata": {},
   "outputs": [],
   "source": [
    "scores = all_scores[0]"
   ]
  },
  {
   "cell_type": "code",
   "execution_count": null,
   "metadata": {},
   "outputs": [],
   "source": [
    "scores.shape"
   ]
  },
  {
   "cell_type": "code",
   "execution_count": null,
   "metadata": {},
   "outputs": [],
   "source": [
    "import matplotlib.pyplot as plt\n",
    "import numpy as np"
   ]
  },
  {
   "cell_type": "code",
   "execution_count": null,
   "metadata": {},
   "outputs": [],
   "source": [
    "plt.figure(figsize=(12,12))\n",
    "for idx in range(16):\n",
    "    plt.subplot(4,4,idx+1)\n",
    "    plt.imshow(scores[1,:23,:23,0,idx].numpy())\n",
    "    plt.colorbar()\n",
    "plt.show()\n",
    "#plt.imshow(np.einsum('ijk,ijk->ij', img, img))"
   ]
  },
  {
   "cell_type": "code",
   "execution_count": null,
   "metadata": {},
   "outputs": [],
   "source": [
    "plt.figure(figsize=(12,12))\n",
    "for idx in range(4):\n",
    "    plt.subplot(4,1,idx+1)\n",
    "    plt.imshow(scores.reshape(32, 31, 31, -1)[1,idx,:23,:].numpy())\n",
    "    plt.colorbar()\n",
    "plt.show()\n",
    "#plt.imshow(np.einsum('ijk,ijk->ij', img, img))"
   ]
  },
  {
   "cell_type": "code",
   "execution_count": null,
   "metadata": {},
   "outputs": [],
   "source": [
    "import torch\n",
    "all_E = torch.load('tmp_E.pt', map_location=torch.device('cpu'))"
   ]
  },
  {
   "cell_type": "code",
   "execution_count": null,
   "metadata": {},
   "outputs": [],
   "source": [
    "E, E_v = all_E[0]"
   ]
  },
  {
   "cell_type": "code",
   "execution_count": null,
   "metadata": {},
   "outputs": [],
   "source": [
    "E.shape"
   ]
  },
  {
   "cell_type": "code",
   "execution_count": null,
   "metadata": {},
   "outputs": [],
   "source": [
    "plt.figure(figsize=(12,12))\n",
    "for idx in range(4):\n",
    "    plt.subplot(4,1,idx+1)\n",
    "    plt.imshow(E.reshape(32, 31, 31, -1)[1,idx,:23,:].numpy())\n",
    "    plt.colorbar()\n",
    "plt.show()\n",
    "#plt.imshow(np.einsum('ijk,ijk->ij', img, img))"
   ]
  },
  {
   "cell_type": "markdown",
   "metadata": {},
   "source": [
    "---\n",
    "---\n",
    "---"
   ]
  },
  {
   "cell_type": "code",
   "execution_count": null,
   "metadata": {},
   "outputs": [],
   "source": [
    "import matplotlib.pyplot as plt\n",
    "import numpy as np"
   ]
  },
  {
   "cell_type": "code",
   "execution_count": null,
   "metadata": {},
   "outputs": [],
   "source": [
    "import torch\n",
    "import matplotlib.pyplot as plt\n",
    "import numpy as np\n",
    "#import seaborn as sns\n",
    "all_scores = torch.load('scores_(QK+E)*(V+E)_multi_DptHead.pt', map_location=torch.device('cpu'))\n",
    "all_E = torch.load('E_(QK+E)*(V+E)_multi_DptHead.pt', map_location=torch.device('cpu'))\n",
    "all_Ev = torch.load('Ev_(QK+E)*(V+E)_multi_DptHead.pt', map_location=torch.device('cpu'))\n",
    "batch = torch.load('batch_(QK+E)*(V+E)_multi_DptHead.pt', map_location=torch.device('cpu'))"
   ]
  },
  {
   "cell_type": "code",
   "execution_count": null,
   "metadata": {},
   "outputs": [],
   "source": [
    "plt.figure(figsize=(12,12))\n",
    "for idx in range(16):\n",
    "    plt.subplot(4,4,idx+1)\n",
    "    plt.imshow(all_scores[0][1,:23,:23,0,idx].numpy())\n",
    "    plt.colorbar()\n",
    "plt.show()\n",
    "#plt.imshow(np.einsum('ijk,ijk->ij', img, img))"
   ]
  },
  {
   "cell_type": "code",
   "execution_count": null,
   "metadata": {},
   "outputs": [],
   "source": [
    "plt.figure(figsize=(12,12))\n",
    "for idx in range(16):\n",
    "    plt.subplot(4,4,idx+1)\n",
    "    plt.imshow(all_scores[0][0,:16,:16,0,idx].numpy())\n",
    "    plt.colorbar()\n",
    "    plt.axis('off')\n",
    "plt.show()\n",
    "#plt.imshow(np.einsum('ijk,ijk->ij', img, img))"
   ]
  },
  {
   "cell_type": "code",
   "execution_count": null,
   "metadata": {},
   "outputs": [],
   "source": [
    "import matplotlib.cm as cm\n",
    "from matplotlib.colors import Normalize\n",
    "fig, axes = plt.subplots(nrows=4, ncols=4)\n",
    "cmap=cm.get_cmap('viridis')\n",
    "normalizer=Normalize(all_scores[0][0,:16,:16,0,:].min(),all_scores[0][0,:16,:16,0,:].max())\n",
    "im=cm.ScalarMappable(norm=normalizer)\n",
    "for idx, ax in enumerate(axes.flat):\n",
    "    im = ax.imshow(all_scores[0][0,:16,:16,0,idx].numpy(),cmap=cmap,norm=normalizer)\n",
    "    #plt.colorbar()\n",
    "    ax.axis('off')\n",
    "fig.colorbar(im, ax=axes.ravel().tolist())\n",
    "plt.show()\n",
    "#plt.imshow(np.einsum('ijk,ijk->ij', img, img))"
   ]
  },
  {
   "cell_type": "code",
   "execution_count": null,
   "metadata": {},
   "outputs": [],
   "source": [
    "plt.figure(figsize=(12,12))\n",
    "for idx in range(16):\n",
    "    plt.subplot(4,4,idx+1)\n",
    "    plt.imshow(all_E[0][1,:23,:23,0,idx].numpy())\n",
    "    plt.colorbar()\n",
    "plt.show()\n",
    "#plt.imshow(np.einsum('ijk,ijk->ij', img, img))"
   ]
  },
  {
   "cell_type": "code",
   "execution_count": null,
   "metadata": {},
   "outputs": [],
   "source": [
    "plt.figure(figsize=(12,12))\n",
    "for idx in range(16):\n",
    "    plt.subplot(4,4,idx+1)\n",
    "    plt.imshow(all_Ev[0][1,:23,:23,0,idx].numpy())\n",
    "    plt.colorbar()\n",
    "plt.show()\n",
    "#plt.imshow(np.einsum('ijk,ijk->ij', img, img))"
   ]
  },
  {
   "cell_type": "code",
   "execution_count": null,
   "metadata": {},
   "outputs": [],
   "source": [
    "plt.figure(figsize=(12,12))\n",
    "for idx in range(4):\n",
    "    plt.subplot(4,1,idx+1)\n",
    "    plt.imshow(all_scores[0].reshape(32, 31, 31, -1)[1,idx,:23,:].numpy())\n",
    "    plt.colorbar()\n",
    "plt.show()\n",
    "#plt.imshow(np.einsum('ijk,ijk->ij', img, img))"
   ]
  },
  {
   "cell_type": "code",
   "execution_count": null,
   "metadata": {},
   "outputs": [],
   "source": [
    "plt.figure(figsize=(12,12))\n",
    "for idx in range(4):\n",
    "    plt.subplot(4,1,idx+1)\n",
    "    plt.imshow(all_E[0].reshape(32, 31, 31, -1)[1,idx,:23,:].numpy())\n",
    "    plt.colorbar()\n",
    "plt.show()\n",
    "#plt.imshow(np.einsum('ijk,ijk->ij', img, img))"
   ]
  },
  {
   "cell_type": "code",
   "execution_count": null,
   "metadata": {},
   "outputs": [],
   "source": [
    "plt.figure(figsize=(12,12))\n",
    "for idx in range(4):\n",
    "    plt.subplot(4,1,idx+1)\n",
    "    plt.imshow(all_Ev[0].reshape(32, 31, 31, -1)[1,idx,:23,:].numpy())\n",
    "    plt.colorbar()\n",
    "plt.show()\n",
    "#plt.imshow(np.einsum('ijk,ijk->ij', img, img))"
   ]
  },
  {
   "cell_type": "code",
   "execution_count": null,
   "metadata": {},
   "outputs": [],
   "source": []
  }
 ],
 "metadata": {
  "interpreter": {
   "hash": "81c645d008ed2b6162a6dc3f13f5b6f9229ed6bf3342b0e8ed0df7618efce5f6"
  },
  "kernelspec": {
   "display_name": "Python 3.9.15 ('graphgps_')",
   "language": "python",
   "name": "python3"
  },
  "language_info": {
   "codemirror_mode": {
    "name": "ipython",
    "version": 3
   },
   "file_extension": ".py",
   "mimetype": "text/x-python",
   "name": "python",
   "nbconvert_exporter": "python",
   "pygments_lexer": "ipython3",
   "version": "3.9.15"
  },
  "orig_nbformat": 4
 },
 "nbformat": 4,
 "nbformat_minor": 2
}
